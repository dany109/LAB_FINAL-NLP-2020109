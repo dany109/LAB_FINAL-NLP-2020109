{
 "cells": [
  {
   "cell_type": "code",
   "execution_count": null,
   "id": "0f2c5799",
   "metadata": {},
   "outputs": [],
   "source": [
    "import numpy as np\n",
    "import pandas as pd\n",
    "import matplotlib.pyplot as plt\n",
    "import seaborn as sns\n",
    "\n",
    "import warnings\n",
    "warnings.filterwarnings('ignore')\n",
    "\n",
    "plt.rc('figure',figsize=(17,13))\n",
    "import plotly.express as px\n",
    "import plotly.graph_objs as go\n",
    "import plotly.offline as pyo\n",
    "from plotly.subplots import make_subplots\n",
    "pyo.init_notebook_mode()\n",
    "\n",
    "\n",
    "import re\n",
    "import string \n",
    "\n",
    "import nltk\n",
    "from nltk.probability import FreqDist\n",
    "from nltk.stem import WordNetLemmatizer\n",
    "from nltk.corpus import stopwords\n",
    "from nltk.stem import SnowballStemmer\n",
    "from nltk import pos_tag\n",
    "from nltk.tokenize import word_tokenize\n",
    "\n",
    "from wordcloud import WordCloud\n",
    "from tqdm.auto import tqdm"
   ]
  },
  {
   "cell_type": "code",
   "execution_count": null,
   "id": "c54954db",
   "metadata": {},
   "outputs": [],
   "source": [
    "df=pd.read_csv(\"tweets-2.csv\")"
   ]
  },
  {
   "cell_type": "code",
   "execution_count": null,
   "id": "0b1f5c97",
   "metadata": {},
   "outputs": [],
   "source": [
    "df = df.dropna()"
   ]
  },
  {
   "cell_type": "code",
   "execution_count": null,
   "id": "85add4a1",
   "metadata": {},
   "outputs": [],
   "source": [
    "df"
   ]
  },
  {
   "cell_type": "code",
   "execution_count": null,
   "id": "273aa1dc",
   "metadata": {},
   "outputs": [],
   "source": [
    "df=df[:500]"
   ]
  },
  {
   "cell_type": "code",
   "execution_count": null,
   "id": "38d0b869",
   "metadata": {},
   "outputs": [],
   "source": [
    "import pandas as pd\n",
    "\n",
    "import nltk\n",
    "from nltk.corpus import stopwords\n",
    "from nltk.stem import PorterStemmer, WordNetLemmatizer\n",
    "import re\n",
    "\n",
    "\n",
    "\n",
    "\n",
    "# Function to perform stemming\n",
    "def perform_stemming(text):\n",
    "    if isinstance(text, list):\n",
    "        text = ' '.join(text)\n",
    "    stemmer = PorterStemmer()\n",
    "    return ' '.join([stemmer.stem(word) for word in text.split()])\n",
    "\n",
    "# Function to perform lemmatization\n",
    "def perform_lemmatization(text):\n",
    "    lemmatizer = WordNetLemmatizer()\n",
    "    return ' '.join([lemmatizer.lemmatize(word) for word in text.split()])\n",
    "\n",
    "# Function to remove special characters\n",
    "def remove_special_characters(text):\n",
    "    if isinstance(text, str):\n",
    "        return re.sub(r'[^a-zA-Z0-9\\s]', '', text)\n",
    "    return text\n",
    "\n",
    "\n",
    "# Print the processed dataframe\n",
    "\n"
   ]
  },
  {
   "cell_type": "code",
   "execution_count": null,
   "id": "9e0bd0f8",
   "metadata": {},
   "outputs": [],
   "source": [
    "df"
   ]
  },
  {
   "cell_type": "code",
   "execution_count": null,
   "id": "6b928994",
   "metadata": {},
   "outputs": [],
   "source": [
    "from textblob import TextBlob\n",
    "\n",
    "# Function to perform sentiment analysis using TextBlob\n",
    "def perform_sentiment_analysis(text):\n",
    "    blob = TextBlob(text)\n",
    "    \n",
    "    if sentiment > 0:\n",
    "        return 'Positive'\n",
    "    elif sentiment < 0:\n",
    "        return 'Negative'\n",
    "    else:\n",
    "        return 'Neutral'\n",
    "\n",
    "# Apply sentiment analysis to the pre-processed text column\n",
    "df['sentiment'] = df['text'].apply(perform_sentiment_analysis)\n",
    "\n",
    "# Print the dataframe with sentiment analysis results\n",
    "\n"
   ]
  },
  {
   "cell_type": "code",
   "execution_count": null,
   "id": "29dfa6a1",
   "metadata": {},
   "outputs": [],
   "source": [
    "import pandas as pd\n",
    "\n",
    "\n",
    "# Select the 'text' column\n",
    "text_column = df['text']\n",
    "\n",
    "# Calculate the length of sentences\n",
    "df['sentence_length'] = text_column.apply(lambda x: len(x.split('.')))\n",
    "\n",
    "# Calculate the number of words\n",
    "df['word_count'] = text_column.apply(len(x.split()))\n",
    "\n",
    "# Calculate the number of spaces\n",
    "df['space_count'] = text_column.apply( x.count(' '))\n",
    "\n",
    "# Calculate the number of characters\n",
    "df['char_count'] = text_column.apply(len)\n",
    "\n",
    "# Print the DataFrame with the calculated values\n",
    "\n"
   ]
  },
  {
   "cell_type": "code",
   "execution_count": null,
   "id": "62549060",
   "metadata": {},
   "outputs": [],
   "source": [
    "selected_columns = ['text','count_vectors','tfidf_vectors']  \n",
    "df.loc[:, selected_columns]"
   ]
  },
  {
   "cell_type": "code",
   "execution_count": null,
   "id": "58c26d51",
   "metadata": {},
   "outputs": [],
   "source": [
    "import pandas as pd\n",
    "\n",
    "# Assuming your dataframe is named 'df' and you want to drop columns 'text_column', 'column1', and 'column2'\n",
    "\n",
    "# Create a list of columns to be dropped\n",
    "columns_to_drop = ['text','sentiment','sentence_length','word_count','space_count','char_count','count_vectors','tfidf_vectors']\n",
    "\n",
    "# Exclude the specified columns\n",
    "df_no_text = df.drop(columns_to_drop, axis=1)\n",
    "\n",
    "# Calculate the correlation matrix\n",
    "correlation_matrix = df_no_text.corr()\n",
    "\n",
    "# Find the best features by selecting the ones with the highest correlation (absolute value)\n",
    "best_features = correlation_matrix.abs().idxmax()\n",
    "\n",
    "# Extract the best features from the original dataframe\n",
    "core_df = df[best_features]\n",
    "\n",
    "# Print or further process the core_df\n",
    "print(core_df)\n"
   ]
  },
  {
   "cell_type": "code",
   "execution_count": null,
   "id": "9ffd9ba7",
   "metadata": {},
   "outputs": [],
   "source": [
    "'text','sentiment','sentence_length','word_count','space_count','char_count','count_vectors','tfidf_vectors', axis=1)\n"
   ]
  },
  {
   "cell_type": "code",
   "execution_count": null,
   "id": "e0dc95bf",
   "metadata": {},
   "outputs": [],
   "source": [
    "  X_test, y_train, y_test = train_test_split(df['preprocessed_text'], df['sentiment'], test_size=0.3, random_state=42)"
   ]
  },
  {
   "cell_type": "code",
   "execution_count": null,
   "id": "cb101acf",
   "metadata": {},
   "outputs": [],
   "source": [
    "# Vectorize the text data using TF-IDF\n",
    "tfidf_vectorizer = TfidfVectorizer(stop_words='english')\n",
    "X_train_tfidf = tfidf_vectorizer.fit_transform(X_train)\n",
    "X_test_tfidf = tfidf_vectorizer.transform(X_test)"
   ]
  },
  {
   "cell_type": "code",
   "execution_count": null,
   "id": "fac33a7f",
   "metadata": {},
   "outputs": [],
   "source": [
    "models = [\n",
    "    (\"LinearSVC\", LinearSVC()),\n",
    "    (\"Logistic Regression\", LogisticRegression(max_iter=1000)),\n",
    "    (\"MultinomialNB\", MultinomialNB()),\n",
    "    (\"Random Forest\", RandomForestClassifier(n_estimators=100)),\n",
    "    (\"Decision Tree\", DecisionTreeClassifier())\n",
    "]"
   ]
  }
 ],
 "metadata": {
  "kernelspec": {
   "display_name": "Python 3 (ipykernel)",
   "language": "python",
   "name": "python3"
  },
  "language_info": {
   "codemirror_mode": {
    "name": "ipython",
    "version": 3
   },
   "file_extension": ".py",
   "mimetype": "text/x-python",
   "name": "python",
   "nbconvert_exporter": "python",
   "pygments_lexer": "ipython3",
   "version": "3.9.16"
  }
 },
 "nbformat": 4,
 "nbformat_minor": 5
}
